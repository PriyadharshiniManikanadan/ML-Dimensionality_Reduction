{
 "cells": [
  {
   "cell_type": "markdown",
   "id": "cdfffb05-f3fa-4437-a8c3-9184ee0e3928",
   "metadata": {},
   "source": [
    "## LDA - Deployment"
   ]
  },
  {
   "cell_type": "code",
   "execution_count": 1,
   "id": "2b4f82da-b3db-4b3b-9522-d6c054eefe8e",
   "metadata": {},
   "outputs": [],
   "source": [
    "import pickle"
   ]
  },
  {
   "cell_type": "code",
   "execution_count": 3,
   "id": "ac89183a-a496-4209-a860-3e226d9022ff",
   "metadata": {},
   "outputs": [],
   "source": [
    "sc = pickle.load(open('sc.pkl','rb'))"
   ]
  },
  {
   "cell_type": "code",
   "execution_count": 4,
   "id": "8de5f822-1d79-49cc-a056-078a0f18c41a",
   "metadata": {},
   "outputs": [],
   "source": [
    "lda = pickle.load(open('lda.pkl','rb'))"
   ]
  },
  {
   "cell_type": "code",
   "execution_count": 7,
   "id": "cf841d42-8617-4631-8b07-3686df2e86dc",
   "metadata": {},
   "outputs": [],
   "source": [
    "User_input = ([[5.0,76.58,3.0,0.0,148.11,57.48,6.25,154.3,5.25,12.56,52.0,7700,0,1,0,1,0,1,0,1,0,1,0,1,0,1,0]])"
   ]
  },
  {
   "cell_type": "code",
   "execution_count": 9,
   "id": "db5e6c32-9a54-4d07-882b-f86ce55e5e51",
   "metadata": {},
   "outputs": [
    {
     "name": "stderr",
     "output_type": "stream",
     "text": [
      "C:\\Anaconda3\\envs\\AIML\\Lib\\site-packages\\sklearn\\base.py:493: UserWarning: X does not have valid feature names, but StandardScaler was fitted with feature names\n",
      "  warnings.warn(\n"
     ]
    },
    {
     "data": {
      "text/plain": [
       "array([[-2.89939466e+00, -3.59418284e-03,  1.70813011e+00,\n",
       "        -3.65008855e-01, -1.53315608e-02, -5.08082167e-02,\n",
       "         5.52477536e-01,  1.70735356e+00,  3.37552164e-01,\n",
       "         4.29417851e-02,  1.61244852e+00, -2.40918855e-01,\n",
       "        -5.61639544e+00,  2.05657682e+00, -5.15628758e-01,\n",
       "         2.12132034e+00, -1.26188616e-01,  3.73210014e-01,\n",
       "        -2.05657682e+00,  3.04800305e+00, -2.37258068e-01,\n",
       "         1.31396184e+00, -7.40637353e-01,  3.28858857e+00,\n",
       "        -1.97678838e+00,  1.93937981e+00, -4.36232172e-01]])"
      ]
     },
     "execution_count": 9,
     "metadata": {},
     "output_type": "execute_result"
    }
   ],
   "source": [
    "scaled_input = sc.transform(User_input)\n",
    "scaled_input"
   ]
  },
  {
   "cell_type": "code",
   "execution_count": 11,
   "id": "b9923679-3eeb-4ffe-9563-da441e01da20",
   "metadata": {},
   "outputs": [
    {
     "data": {
      "text/plain": [
       "array([[-0.22496028]])"
      ]
     },
     "execution_count": 11,
     "metadata": {},
     "output_type": "execute_result"
    }
   ],
   "source": [
    "lda_input = lda.transform(scaled_input)\n",
    "lda_input"
   ]
  },
  {
   "cell_type": "code",
   "execution_count": 14,
   "id": "c223515c-27e5-4545-b9bc-596371a76418",
   "metadata": {},
   "outputs": [],
   "source": [
    "loaded_model = pickle.load(open('Finalized_Logistic_Model.sav','rb'))\n",
    "Prediction = loaded_model.predict(lda_input)"
   ]
  },
  {
   "cell_type": "code",
   "execution_count": 15,
   "id": "59317016-1d2d-4f0a-bd6c-add9073bd50b",
   "metadata": {},
   "outputs": [
    {
     "data": {
      "text/plain": [
       "array([1])"
      ]
     },
     "execution_count": 15,
     "metadata": {},
     "output_type": "execute_result"
    }
   ],
   "source": [
    "Prediction"
   ]
  },
  {
   "cell_type": "code",
   "execution_count": null,
   "id": "5c10bcf9-6eae-4540-bb23-4ff1438c9e1a",
   "metadata": {},
   "outputs": [],
   "source": []
  }
 ],
 "metadata": {
  "kernelspec": {
   "display_name": "Python 3 (ipykernel)",
   "language": "python",
   "name": "python3"
  },
  "language_info": {
   "codemirror_mode": {
    "name": "ipython",
    "version": 3
   },
   "file_extension": ".py",
   "mimetype": "text/x-python",
   "name": "python",
   "nbconvert_exporter": "python",
   "pygments_lexer": "ipython3",
   "version": "3.12.4"
  }
 },
 "nbformat": 4,
 "nbformat_minor": 5
}
