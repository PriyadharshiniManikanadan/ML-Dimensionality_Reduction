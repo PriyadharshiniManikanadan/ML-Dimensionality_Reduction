{
 "cells": [
  {
   "cell_type": "markdown",
   "id": "e369912a-8610-4279-8629-c78e112b0cee",
   "metadata": {},
   "source": [
    "## Kernel PCA - Deployment"
   ]
  },
  {
   "cell_type": "code",
   "execution_count": 1,
   "id": "67462d9a-178e-4763-9fd5-103853c851f2",
   "metadata": {},
   "outputs": [],
   "source": [
    "import pickle"
   ]
  },
  {
   "cell_type": "code",
   "execution_count": 2,
   "id": "fe2a3ab8-13a0-4ae7-ae79-3ef142cd9671",
   "metadata": {},
   "outputs": [],
   "source": [
    "sc = pickle.load(open('sc.pkl','rb'))\n",
    "kpca = pickle.load(open('KPCA.pkl','rb'))"
   ]
  },
  {
   "cell_type": "code",
   "execution_count": 3,
   "id": "ca1e752e-488d-473c-bd9b-43e3a1a7cd78",
   "metadata": {},
   "outputs": [],
   "source": [
    "User_input = ([[5.0,76.58,3.0,0.0,148.11,57.48,6.25,154.3,5.25,12.56,52.0,7700,0,1,0,1,0,1,0,1,0,1,0,1,0,1,0]])"
   ]
  },
  {
   "cell_type": "code",
   "execution_count": 4,
   "id": "c80cff28-50e5-40db-9313-79a98660ad74",
   "metadata": {},
   "outputs": [
    {
     "name": "stderr",
     "output_type": "stream",
     "text": [
      "C:\\Anaconda3\\envs\\AIML\\Lib\\site-packages\\sklearn\\base.py:493: UserWarning: X does not have valid feature names, but StandardScaler was fitted with feature names\n",
      "  warnings.warn(\n"
     ]
    },
    {
     "data": {
      "text/plain": [
       "array([[-2.89939466e+00, -3.59418284e-03,  1.70813011e+00,\n",
       "        -3.65008855e-01, -1.53315608e-02, -5.08082167e-02,\n",
       "         5.52477536e-01,  1.70735356e+00,  3.37552164e-01,\n",
       "         4.29417851e-02,  1.61244852e+00, -2.40918855e-01,\n",
       "        -5.61639544e+00,  2.05657682e+00, -5.15628758e-01,\n",
       "         2.12132034e+00, -1.26188616e-01,  3.73210014e-01,\n",
       "        -2.05657682e+00,  3.04800305e+00, -2.37258068e-01,\n",
       "         1.31396184e+00, -7.40637353e-01,  3.28858857e+00,\n",
       "        -1.97678838e+00,  1.93937981e+00, -4.36232172e-01]])"
      ]
     },
     "execution_count": 4,
     "metadata": {},
     "output_type": "execute_result"
    }
   ],
   "source": [
    "scaled_input = sc.transform(User_input)\n",
    "scaled_input  "
   ]
  },
  {
   "cell_type": "code",
   "execution_count": 5,
   "id": "ec6e6117-d496-4e1b-a1ef-c2864fa350a6",
   "metadata": {},
   "outputs": [
    {
     "data": {
      "text/plain": [
       "array([[-0.35589373,  0.2167403 ]])"
      ]
     },
     "execution_count": 5,
     "metadata": {},
     "output_type": "execute_result"
    }
   ],
   "source": [
    "kpca_input = kpca.transform(scaled_input)\n",
    "kpca_input"
   ]
  },
  {
   "cell_type": "code",
   "execution_count": 6,
   "id": "0c3a1f58-4d13-467d-a45a-4647568fbfa0",
   "metadata": {},
   "outputs": [],
   "source": [
    "loaded_model = pickle.load(open('Finalized_SVMnl_Model.sav','rb'))\n",
    "Prediction = loaded_model.predict(kpca_input)"
   ]
  },
  {
   "cell_type": "code",
   "execution_count": 7,
   "id": "f160aaa5-e1a3-4f14-b784-90879e31639e",
   "metadata": {},
   "outputs": [
    {
     "data": {
      "text/plain": [
       "array([1])"
      ]
     },
     "execution_count": 7,
     "metadata": {},
     "output_type": "execute_result"
    }
   ],
   "source": [
    "Prediction"
   ]
  }
 ],
 "metadata": {
  "kernelspec": {
   "display_name": "Python 3 (ipykernel)",
   "language": "python",
   "name": "python3"
  },
  "language_info": {
   "codemirror_mode": {
    "name": "ipython",
    "version": 3
   },
   "file_extension": ".py",
   "mimetype": "text/x-python",
   "name": "python",
   "nbconvert_exporter": "python",
   "pygments_lexer": "ipython3",
   "version": "3.12.4"
  }
 },
 "nbformat": 4,
 "nbformat_minor": 5
}
