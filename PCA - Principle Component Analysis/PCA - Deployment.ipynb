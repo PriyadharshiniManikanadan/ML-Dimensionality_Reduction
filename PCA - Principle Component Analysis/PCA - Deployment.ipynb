{
 "cells": [
  {
   "cell_type": "code",
   "execution_count": 1,
   "id": "60741572-b9b2-44d5-a338-6f8778ccbf06",
   "metadata": {},
   "outputs": [],
   "source": [
    "import pickle"
   ]
  },
  {
   "cell_type": "code",
   "execution_count": 2,
   "id": "2d029162-98ec-41b7-a36a-2bf9d9dbb2f9",
   "metadata": {},
   "outputs": [],
   "source": [
    "sc = pickle.load(open('sc.pkl','rb'))"
   ]
  },
  {
   "cell_type": "code",
   "execution_count": 3,
   "id": "846a9e88-6df2-4d96-977c-6ff889311e69",
   "metadata": {},
   "outputs": [],
   "source": [
    "pca = pickle.load(open('pca.pkl','rb'))"
   ]
  },
  {
   "cell_type": "code",
   "execution_count": 4,
   "id": "494388aa-cde8-4b62-b6c9-a9952752f684",
   "metadata": {},
   "outputs": [],
   "source": [
    "user_input = ([[5.0,76.58,3.0,0.0,148.11,57.48,6.25,154.3,5.25,12.56,52.0,7700,0,1,0,1,0,1,0,1,0,1,0,1,0,1,0]])"
   ]
  },
  {
   "cell_type": "code",
   "execution_count": 5,
   "id": "35711594-e247-48b2-9b61-e8538f1de623",
   "metadata": {},
   "outputs": [
    {
     "name": "stderr",
     "output_type": "stream",
     "text": [
      "C:\\Anaconda3\\envs\\AIML\\Lib\\site-packages\\sklearn\\base.py:493: UserWarning: X does not have valid feature names, but StandardScaler was fitted with feature names\n",
      "  warnings.warn(\n"
     ]
    }
   ],
   "source": [
    "scaled_input = sc.transform(user_input)\n",
    "pca_input = pca.transform(scaled_input)"
   ]
  },
  {
   "cell_type": "code",
   "execution_count": 6,
   "id": "bc0302a5-605a-4e09-af1e-31ed1adda5f5",
   "metadata": {},
   "outputs": [],
   "source": [
    "loaded_model = pickle.load(open('Finalized_SVMnl_Model.sav','rb'))\n",
    "Prediction = loaded_model.predict(pca_input)\n"
   ]
  },
  {
   "cell_type": "code",
   "execution_count": 7,
   "id": "e2dfa70b-aeb5-4023-a8d9-4ad3661d3f6d",
   "metadata": {},
   "outputs": [
    {
     "data": {
      "text/plain": [
       "array([1])"
      ]
     },
     "execution_count": 7,
     "metadata": {},
     "output_type": "execute_result"
    }
   ],
   "source": [
    "Prediction"
   ]
  },
  {
   "cell_type": "code",
   "execution_count": null,
   "id": "8b13f4f8-de57-4d03-b8a5-00aa867c0f62",
   "metadata": {},
   "outputs": [],
   "source": []
  }
 ],
 "metadata": {
  "kernelspec": {
   "display_name": "Python 3 (ipykernel)",
   "language": "python",
   "name": "python3"
  },
  "language_info": {
   "codemirror_mode": {
    "name": "ipython",
    "version": 3
   },
   "file_extension": ".py",
   "mimetype": "text/x-python",
   "name": "python",
   "nbconvert_exporter": "python",
   "pygments_lexer": "ipython3",
   "version": "3.12.4"
  }
 },
 "nbformat": 4,
 "nbformat_minor": 5
}
